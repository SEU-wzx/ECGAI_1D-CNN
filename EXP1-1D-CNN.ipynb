{
 "cells": [
  {
   "cell_type": "markdown",
   "metadata": {},
   "source": [
    "### IMPORT LIBS"
   ]
  },
  {
   "cell_type": "code",
   "execution_count": 1,
   "metadata": {},
   "outputs": [
    {
     "name": "stderr",
     "output_type": "stream",
     "text": [
      "Using TensorFlow backend.\n"
     ]
    }
   ],
   "source": [
    "import tensorflow as tf\n",
    "import tensorflow.keras as keras\n",
    "\n",
    "import random\n",
    "import numpy as np\n",
    "import scipy.io as scio\n",
    "import pandas as pd\n",
    "import os\n",
    "import collections\n",
    "from matplotlib import pyplot as plt\n",
    "\n",
    "from keras import optimizers\n",
    "from keras.models import Model, Sequential\n",
    "from keras.optimizers import Adam, SGD, RMSprop\n",
    "from keras.layers import Dense, Dropout, Activation, Flatten, Input\n",
    "from keras.layers import Conv1D, BatchNormalization, MaxPooling1D\n",
    "from keras.utils import to_categorical\n",
    "\n",
    "from sklearn.model_selection import train_test_split"
   ]
  },
  {
   "cell_type": "markdown",
   "metadata": {},
   "source": [
    "### PATH"
   ]
  },
  {
   "cell_type": "code",
   "execution_count": 2,
   "metadata": {},
   "outputs": [],
   "source": [
    "base_path = '/home/wzx/ECGAI/EXP1/1D_CNN'\n",
    "\n",
    "dataset_path =  '/home/wzx/ECGAI/EXP1/Dataset/' # Training data"
   ]
  },
  {
   "cell_type": "markdown",
   "metadata": {},
   "source": [
    "### PLOT SETTING"
   ]
  },
  {
   "cell_type": "code",
   "execution_count": 3,
   "metadata": {},
   "outputs": [],
   "source": [
    "plt.rcParams[\"figure.figsize\"] = (15,5)\n",
    "plt.rcParams['lines.linewidth'] = 2\n",
    "plt.rcParams['lines.color'] = 'b'\n",
    "plt.rcParams['axes.grid'] = True"
   ]
  },
  {
   "cell_type": "markdown",
   "metadata": {},
   "source": [
    "### FUNCTIONS"
   ]
  },
  {
   "cell_type": "code",
   "execution_count": null,
   "metadata": {},
   "outputs": [],
   "source": [
    "\n",
    "\n"
   ]
  },
  {
   "cell_type": "markdown",
   "metadata": {},
   "source": [
    "### LAYERS"
   ]
  },
  {
   "cell_type": "code",
   "execution_count": 4,
   "metadata": {},
   "outputs": [],
   "source": [
    "def nn_base(Unit, Kernel, Conv_Stride, Maxpool_Stride, input_tensor = None):\n",
    "    \n",
    "    input_shape = (None, 3)\n",
    "\n",
    "    ecg_input = input_tensor\n",
    "\n",
    "    bn_axis = 3\n",
    "\n",
    "    # nn_base\n",
    "    x = Conv1D(filters = Unit, kernel_size = Kernel, padding = 'same', strides = Conv_Stride, activation = 'relu', \n",
    "               data_format='channels_last')(ecg_input)\n",
    "    \n",
    "    x = BatchNormalization()(x)\n",
    "    \n",
    "    x = MaxPooling1D(pool_size = 2, strides = Maxpool_Stride, padding = 'same', \n",
    "                     data_format='channels_last')(x)\n",
    "\n",
    "    return x"
   ]
  },
  {
   "cell_type": "code",
   "execution_count": 5,
   "metadata": {},
   "outputs": [],
   "source": [
    "def classifier_layer(base_layer, dropout_rate = 0.1, ClassesNum = 17):\n",
    "    \n",
    "    # classifier layers\n",
    "    x = Conv1D(filters = 32, kernel_size = 10, padding = 'same', activation = 'relu', \n",
    "               name = 'classifier_layer_Conv1D1', data_format='channels_last')(base_layer)\n",
    "    \n",
    "    x = Conv1D(filters = 128, kernel_size = 5, padding = 'same', activation = 'relu', \n",
    "               strides = 2, name = 'classifier_layer_Conv1D2', data_format='channels_last')(x)\n",
    "    \n",
    "    x = MaxPooling1D(pool_size = 2, strides = 2, padding = 'same', \n",
    "                     name = 'classifier_layer_MaxPooling1D1', data_format='channels_last')(x)\n",
    "    \n",
    "    x = Conv1D(filters = 256, kernel_size = 15, padding = 'same', activation = 'relu', \n",
    "               name = 'classifier_layer_Conv1D3', data_format='channels_last')(x)\n",
    "    \n",
    "    x = MaxPooling1D(pool_size = 2, strides = 2, padding = 'same', \n",
    "                     name = 'classifier_layer_MaxPooling1D2', data_format='channels_last')(x)\n",
    "    \n",
    "    x = Conv1D(filters = 512, kernel_size = 5, padding = 'same', activation = 'relu', \n",
    "               name = 'classifier_layer_Conv1D4', data_format='channels_last')(x)\n",
    "    \n",
    "    x = Conv1D(filters = 128, kernel_size = 3, padding = 'same', activation = 'relu', \n",
    "               name = 'classifier_layer_Conv1D5', data_format='channels_last')(x)\n",
    "    \n",
    "    \n",
    "    x = Flatten(name = 'classifier_layer_Flatten')(x)\n",
    "    x = Dense(units = 512, activation = 'relu', name = 'classifier_layer_Dense1')(x)\n",
    "    x = Dropout(rate = dropout_rate, name = 'classifier_layer_Dropout')(x)\n",
    "    x = Dense(units = ClassesNum, activation = 'softmax', name = 'classifier_layer_Dense2')(x)\n",
    "    \n",
    "    return x"
   ]
  },
  {
   "cell_type": "markdown",
   "metadata": {},
   "source": [
    "### DATA PROCESSING"
   ]
  },
  {
   "cell_type": "code",
   "execution_count": 6,
   "metadata": {
    "scrolled": true
   },
   "outputs": [],
   "source": [
    "# Variables\n",
    "\n",
    "classes = ['NSR', 'APB', 'AFL', 'AFIB', 'SVTA', 'WPW','PVC', 'Bigeminy', 'Trigeminy', \n",
    "           'VT', 'IVR', 'VFL', 'Fusion', 'LBBBB', 'RBBBB', 'SDHB', 'PR']\n",
    "ClassesNum = len(classes)\n",
    "\n",
    "X = list()\n",
    "y = list()\n",
    "\n",
    "for root, dirs, files in os.walk(dataset_path, topdown=False):\n",
    "    for name in files:\n",
    "        data_train = scio.loadmat(os.path.join(root, name))# 取出字典里的value\n",
    "        \n",
    "        # arr -> list\n",
    "        data_arr = data_train.get('val')\n",
    "        data_list = data_arr.tolist()\n",
    "        \n",
    "        X.append(data_list[0]) # [[……]] -> [ ]\n",
    "        y.append(int(os.path.basename(root)[0:2]) - 1)  # name -> num"
   ]
  },
  {
   "cell_type": "markdown",
   "metadata": {},
   "source": [
    "### START TRAINING"
   ]
  },
  {
   "cell_type": "code",
   "execution_count": 7,
   "metadata": {},
   "outputs": [
    {
     "name": "stdout",
     "output_type": "stream",
     "text": [
      "total num of training data :  1000\n",
      "X_train :  800\n",
      "X_test  :  200\n",
      "y_train :  Counter({0: 231, 3: 110, 6: 101, 13: 85, 1: 56, 14: 47, 7: 42, 16: 34, 2: 14, 5: 14, 8: 12, 4: 10, 11: 9, 10: 9, 15: 9, 12: 9, 9: 8})\n",
      "y_test  :  Counter({0: 52, 6: 32, 3: 25, 13: 18, 14: 15, 7: 13, 16: 11, 1: 10, 5: 7, 2: 6, 4: 3, 12: 2, 9: 2, 8: 1, 15: 1, 10: 1, 11: 1})\n",
      "shape of X_train :  (3600,)\n",
      "shape of y_train :  (800,)\n",
      "shape of X_test :  (200, 3600)\n",
      "shape of y_test :  (200,)\n"
     ]
    }
   ],
   "source": [
    "# list -> arr\n",
    "X=np.array(X)\n",
    "y=np.array(y)\n",
    "\n",
    "print(\"total num of training data : \", len(X))\n",
    "\n",
    "# get X_train, X_test, y_train, y_test \n",
    "X_train, X_test, y_train, y_test = train_test_split(X, y, test_size=0.2)\n",
    "\n",
    "print(\"X_train : \", len(X_train))\n",
    "print(\"X_test  : \", len(X_test))\n",
    "print(\"y_train : \", collections.Counter(y_train))\n",
    "print(\"y_test  : \", collections.Counter(y_test))\n",
    "print(\"shape of X_train : \", np.shape(X_train[0]))\n",
    "print(\"shape of y_train : \", np.shape(y_train))\n",
    "print(\"shape of X_test : \", np.shape(X_test))\n",
    "print(\"shape of y_test : \", np.shape(y_test))"
   ]
  },
  {
   "cell_type": "markdown",
   "metadata": {},
   "source": [
    "### BUILD MODEL_SEQ"
   ]
  },
  {
   "cell_type": "code",
   "execution_count": 8,
   "metadata": {
    "scrolled": true
   },
   "outputs": [
    {
     "data": {
      "text/plain": [
       "\"\\nmodel_all = Sequential()\\nmodel_all.add(Conv1D(128, 50, padding = 'same', activation='relu', strides = 3,\\n                     input_shape=(3600,1), data_format='channels_last'))\\nmodel_all.add(BatchNormalization())\\nmodel_all.add(MaxPooling1D(3, padding = 'same', data_format='channels_last'))\\n\\nmodel_all.add(Conv1D(32, 7, padding = 'same', activation='relu', strides = 1, data_format='channels_last'))\\nmodel_all.add(BatchNormalization())\\nmodel_all.add(MaxPooling1D(2, padding = 'same', data_format='channels_last'))\\n\\nmodel_all.add(Conv1D(32, 10, padding = 'same', activation='relu', strides = 1, data_format='channels_last'))\\nmodel_all.add(Conv1D(128, 5, padding = 'same', activation='relu', strides = 2, data_format='channels_last'))\\nmodel_all.add(MaxPooling1D(2,padding = 'same', data_format='channels_last'))\\n\\nmodel_all.add(Conv1D(256, 15, padding = 'same', activation='relu', strides = 1, data_format='channels_last'))\\nmodel_all.add(MaxPooling1D(2, padding = 'same', data_format='channels_last')) \\n\\nmodel_all.add(Conv1D(512, 5, padding = 'same', activation='relu', strides = 1, data_format='channels_last'))\\nmodel_all.add(Conv1D(128, 3, padding = 'same', activation='relu', strides = 1, data_format='channels_last'))\\nmodel_all.add(Flatten(data_format='channels_last'))\\n\\nmodel_all.add(Dense(512, activation='relu'))\\nmodel_all.add(Dropout(0.1))\\nmodel_all.add(Dense(ClassesNum, activation='softmax'))\\n\\nprint(model_all.summary())\\n\""
      ]
     },
     "execution_count": 8,
     "metadata": {},
     "output_type": "execute_result"
    }
   ],
   "source": [
    "'''\n",
    "model_all = Sequential()\n",
    "model_all.add(Conv1D(128, 50, padding = 'same', activation='relu', strides = 3,\n",
    "                     input_shape=(3600,1), data_format='channels_last'))\n",
    "model_all.add(BatchNormalization())\n",
    "model_all.add(MaxPooling1D(3, padding = 'same', data_format='channels_last'))\n",
    "\n",
    "model_all.add(Conv1D(32, 7, padding = 'same', activation='relu', strides = 1, data_format='channels_last'))\n",
    "model_all.add(BatchNormalization())\n",
    "model_all.add(MaxPooling1D(2, padding = 'same', data_format='channels_last'))\n",
    "\n",
    "model_all.add(Conv1D(32, 10, padding = 'same', activation='relu', strides = 1, data_format='channels_last'))\n",
    "model_all.add(Conv1D(128, 5, padding = 'same', activation='relu', strides = 2, data_format='channels_last'))\n",
    "model_all.add(MaxPooling1D(2,padding = 'same', data_format='channels_last'))\n",
    "\n",
    "model_all.add(Conv1D(256, 15, padding = 'same', activation='relu', strides = 1, data_format='channels_last'))\n",
    "model_all.add(MaxPooling1D(2, padding = 'same', data_format='channels_last')) \n",
    "\n",
    "model_all.add(Conv1D(512, 5, padding = 'same', activation='relu', strides = 1, data_format='channels_last'))\n",
    "model_all.add(Conv1D(128, 3, padding = 'same', activation='relu', strides = 1, data_format='channels_last'))\n",
    "model_all.add(Flatten(data_format='channels_last'))\n",
    "\n",
    "model_all.add(Dense(512, activation='relu'))\n",
    "model_all.add(Dropout(0.1))\n",
    "model_all.add(Dense(ClassesNum, activation='softmax'))\n",
    "\n",
    "print(model_all.summary())\n",
    "'''"
   ]
  },
  {
   "cell_type": "markdown",
   "metadata": {},
   "source": [
    "### BUILD MODEL_MOD"
   ]
  },
  {
   "cell_type": "code",
   "execution_count": 9,
   "metadata": {
    "scrolled": true
   },
   "outputs": [
    {
     "name": "stdout",
     "output_type": "stream",
     "text": [
      "Model: \"model_1\"\n",
      "_________________________________________________________________\n",
      "Layer (type)                 Output Shape              Param #   \n",
      "=================================================================\n",
      "input_1 (InputLayer)         (None, 3600, 1)           0         \n",
      "_________________________________________________________________\n",
      "conv1d_1 (Conv1D)            (None, 1200, 128)         6528      \n",
      "_________________________________________________________________\n",
      "batch_normalization_1 (Batch (None, 1200, 128)         512       \n",
      "_________________________________________________________________\n",
      "max_pooling1d_1 (MaxPooling1 (None, 400, 128)          0         \n",
      "_________________________________________________________________\n",
      "conv1d_2 (Conv1D)            (None, 400, 32)           28704     \n",
      "_________________________________________________________________\n",
      "batch_normalization_2 (Batch (None, 400, 32)           128       \n",
      "_________________________________________________________________\n",
      "max_pooling1d_2 (MaxPooling1 (None, 200, 32)           0         \n",
      "_________________________________________________________________\n",
      "classifier_layer_Conv1D1 (Co (None, 200, 32)           10272     \n",
      "_________________________________________________________________\n",
      "classifier_layer_Conv1D2 (Co (None, 100, 128)          20608     \n",
      "_________________________________________________________________\n",
      "classifier_layer_MaxPooling1 (None, 50, 128)           0         \n",
      "_________________________________________________________________\n",
      "classifier_layer_Conv1D3 (Co (None, 50, 256)           491776    \n",
      "_________________________________________________________________\n",
      "classifier_layer_MaxPooling1 (None, 25, 256)           0         \n",
      "_________________________________________________________________\n",
      "classifier_layer_Conv1D4 (Co (None, 25, 512)           655872    \n",
      "_________________________________________________________________\n",
      "classifier_layer_Conv1D5 (Co (None, 25, 128)           196736    \n",
      "_________________________________________________________________\n",
      "classifier_layer_Flatten (Fl (None, 3200)              0         \n",
      "_________________________________________________________________\n",
      "classifier_layer_Dense1 (Den (None, 512)               1638912   \n",
      "_________________________________________________________________\n",
      "classifier_layer_Dropout (Dr (None, 512)               0         \n",
      "_________________________________________________________________\n",
      "classifier_layer_Dense2 (Den (None, 17)                8721      \n",
      "=================================================================\n",
      "Total params: 3,058,769\n",
      "Trainable params: 3,058,449\n",
      "Non-trainable params: 320\n",
      "_________________________________________________________________\n",
      "None\n"
     ]
    }
   ],
   "source": [
    "input_ecg = Input(shape=(3600,1))\n",
    "x = nn_base(128, 50, Conv_Stride = 3, Maxpool_Stride = 3, input_tensor = input_ecg)\n",
    "x = nn_base(32, 7, Conv_Stride = 1, Maxpool_Stride = 2, input_tensor = x)\n",
    "output_ecg = classifier_layer(x, dropout_rate = 0.1, ClassesNum = 17)\n",
    "model_m = Model(input_ecg, output_ecg)\n",
    "print(model_m.summary())"
   ]
  },
  {
   "cell_type": "markdown",
   "metadata": {},
   "source": [
    "### SETTING OPTIMIZERS & COMPILE"
   ]
  },
  {
   "cell_type": "code",
   "execution_count": 10,
   "metadata": {},
   "outputs": [
    {
     "data": {
      "text/plain": [
       "(800, 3600, 1)"
      ]
     },
     "metadata": {},
     "output_type": "display_data"
    }
   ],
   "source": [
    "# setting optimizers & compile\n",
    "optimizers.Adam(lr = 0.002, beta_1 = 0.9, beta_2 = 0.999, epsilon = None, decay = 0.0, amsgrad = False)\n",
    "# model_all.compile(optimizer = 'adam', loss = 'categorical_crossentropy', metrics = ['accuracy'])\n",
    "model_m.compile(optimizer = 'adam', loss = 'categorical_crossentropy', metrics = ['accuracy'])\n",
    "\n",
    "# expand X_train dims\n",
    "X_train = np.expand_dims(X_train, axis=2)\n",
    "X_test = np.reshape(X_test, (np.shape(X_test)[0], np.shape(X_test)[1], 1))\n",
    "# Y : int -> binary (one-hot)\n",
    "y_train = to_categorical(y_train,num_classes = ClassesNum)\n",
    "y_test = to_categorical(y_test,num_classes = ClassesNum)\n",
    "\n",
    "display(np.shape(X_train))"
   ]
  },
  {
   "cell_type": "markdown",
   "metadata": {},
   "source": [
    "### TRAINING "
   ]
  },
  {
   "cell_type": "code",
   "execution_count": 11,
   "metadata": {},
   "outputs": [
    {
     "name": "stdout",
     "output_type": "stream",
     "text": [
      "Epoch 1/50\n",
      "800/800 [==============================] - 11s 13ms/step - loss: 2.4053 - accuracy: 0.2525\n",
      "Epoch 2/50\n",
      "800/800 [==============================] - 10s 12ms/step - loss: 2.0671 - accuracy: 0.3462\n",
      "Epoch 3/50\n",
      "800/800 [==============================] - 10s 12ms/step - loss: 1.7505 - accuracy: 0.4462\n",
      "Epoch 4/50\n",
      "800/800 [==============================] - 10s 13ms/step - loss: 1.3684 - accuracy: 0.5838\n",
      "Epoch 5/50\n",
      "800/800 [==============================] - 11s 13ms/step - loss: 1.1165 - accuracy: 0.6550\n",
      "Epoch 6/50\n",
      "800/800 [==============================] - 11s 13ms/step - loss: 0.7780 - accuracy: 0.7688\n",
      "Epoch 7/50\n",
      "800/800 [==============================] - 11s 13ms/step - loss: 0.5790 - accuracy: 0.8163\n",
      "Epoch 8/50\n",
      "800/800 [==============================] - 11s 13ms/step - loss: 0.4882 - accuracy: 0.8562\n",
      "Epoch 9/50\n",
      "800/800 [==============================] - 11s 14ms/step - loss: 0.4032 - accuracy: 0.8725\n",
      "Epoch 10/50\n",
      "800/800 [==============================] - 11s 14ms/step - loss: 0.2966 - accuracy: 0.9100\n",
      "Epoch 11/50\n",
      "800/800 [==============================] - 11s 14ms/step - loss: 0.2832 - accuracy: 0.9275\n",
      "Epoch 12/50\n",
      "800/800 [==============================] - 11s 14ms/step - loss: 0.2715 - accuracy: 0.9187\n",
      "Epoch 13/50\n",
      "800/800 [==============================] - 11s 14ms/step - loss: 0.2673 - accuracy: 0.9337\n",
      "Epoch 14/50\n",
      "800/800 [==============================] - 11s 13ms/step - loss: 0.2571 - accuracy: 0.9250\n",
      "Epoch 15/50\n",
      "800/800 [==============================] - 11s 14ms/step - loss: 0.1442 - accuracy: 0.9575\n",
      "Epoch 16/50\n",
      "800/800 [==============================] - 11s 14ms/step - loss: 0.0467 - accuracy: 0.9837\n",
      "Epoch 17/50\n",
      "800/800 [==============================] - 11s 14ms/step - loss: 0.0464 - accuracy: 0.9912\n",
      "Epoch 18/50\n",
      "800/800 [==============================] - 11s 14ms/step - loss: 0.0808 - accuracy: 0.9762\n",
      "Epoch 19/50\n",
      "800/800 [==============================] - 11s 14ms/step - loss: 0.1262 - accuracy: 0.9650\n",
      "Epoch 20/50\n",
      "800/800 [==============================] - 11s 14ms/step - loss: 0.0710 - accuracy: 0.9812\n",
      "Epoch 21/50\n",
      "800/800 [==============================] - 11s 14ms/step - loss: 0.2274 - accuracy: 0.9350\n",
      "Epoch 22/50\n",
      "800/800 [==============================] - 11s 14ms/step - loss: 0.3961 - accuracy: 0.9212\n",
      "Epoch 23/50\n",
      "800/800 [==============================] - 11s 14ms/step - loss: 0.1422 - accuracy: 0.9725\n",
      "Epoch 24/50\n",
      "800/800 [==============================] - 11s 14ms/step - loss: 0.2380 - accuracy: 0.9513\n",
      "Epoch 25/50\n",
      "800/800 [==============================] - 11s 14ms/step - loss: 0.1293 - accuracy: 0.9750\n",
      "Epoch 26/50\n",
      "800/800 [==============================] - 11s 14ms/step - loss: 0.0584 - accuracy: 0.9862\n",
      "Epoch 27/50\n",
      "800/800 [==============================] - 11s 14ms/step - loss: 0.4817 - accuracy: 0.9275\n",
      "Epoch 28/50\n",
      "800/800 [==============================] - 11s 14ms/step - loss: 0.2089 - accuracy: 0.9337\n",
      "Epoch 29/50\n",
      "800/800 [==============================] - 11s 14ms/step - loss: 0.2094 - accuracy: 0.9513\n",
      "Epoch 30/50\n",
      "800/800 [==============================] - 11s 14ms/step - loss: 0.1011 - accuracy: 0.9812\n",
      "Epoch 31/50\n",
      "800/800 [==============================] - 11s 14ms/step - loss: 0.1221 - accuracy: 0.9638\n",
      "Epoch 32/50\n",
      "800/800 [==============================] - 11s 14ms/step - loss: 0.0831 - accuracy: 0.9787\n",
      "Epoch 33/50\n",
      "800/800 [==============================] - 11s 14ms/step - loss: 0.0639 - accuracy: 0.9862\n",
      "Epoch 34/50\n",
      "800/800 [==============================] - 11s 14ms/step - loss: 0.0254 - accuracy: 0.9925\n",
      "Epoch 35/50\n",
      "800/800 [==============================] - 11s 14ms/step - loss: 0.0361 - accuracy: 0.9912\n",
      "Epoch 36/50\n",
      "800/800 [==============================] - 11s 14ms/step - loss: 0.0618 - accuracy: 0.9887\n",
      "Epoch 37/50\n",
      "800/800 [==============================] - 11s 14ms/step - loss: 0.0423 - accuracy: 0.9962\n",
      "Epoch 38/50\n",
      "800/800 [==============================] - 11s 14ms/step - loss: 0.0350 - accuracy: 0.9925\n",
      "Epoch 39/50\n",
      "800/800 [==============================] - 11s 14ms/step - loss: 0.0563 - accuracy: 0.9862\n",
      "Epoch 40/50\n",
      "800/800 [==============================] - 11s 14ms/step - loss: 0.0151 - accuracy: 0.9962\n",
      "Epoch 41/50\n",
      "800/800 [==============================] - 11s 14ms/step - loss: 0.0018 - accuracy: 1.0000\n",
      "Epoch 42/50\n",
      "800/800 [==============================] - 11s 14ms/step - loss: 1.6116e-04 - accuracy: 1.0000\n",
      "Epoch 43/50\n",
      "800/800 [==============================] - 11s 14ms/step - loss: 1.6508e-04 - accuracy: 1.0000\n",
      "Epoch 44/50\n",
      "800/800 [==============================] - 11s 14ms/step - loss: 5.5162e-05 - accuracy: 1.0000\n",
      "Epoch 45/50\n",
      "800/800 [==============================] - 11s 14ms/step - loss: 4.8419e-05 - accuracy: 1.0000\n",
      "Epoch 46/50\n",
      "800/800 [==============================] - 11s 14ms/step - loss: 5.6780e-05 - accuracy: 1.0000\n",
      "Epoch 47/50\n",
      "800/800 [==============================] - 11s 14ms/step - loss: 3.9242e-05 - accuracy: 1.0000\n",
      "Epoch 48/50\n",
      "800/800 [==============================] - 11s 14ms/step - loss: 2.2996e-05 - accuracy: 1.0000\n",
      "Epoch 49/50\n",
      "800/800 [==============================] - 11s 14ms/step - loss: 1.5598e-05 - accuracy: 1.0000\n",
      "Epoch 50/50\n",
      "800/800 [==============================] - 11s 14ms/step - loss: 3.4764e-05 - accuracy: 1.0000\n"
     ]
    }
   ],
   "source": [
    "BATCH_SIZE = 16\n",
    "EPOCHS = 50\n",
    "# history = model_all.fit(X_train, y_train, batch_size = BATCH_SIZE, epochs = EPOCHS)\n",
    "history = model_m.fit(X_train, y_train, batch_size = BATCH_SIZE, epochs = EPOCHS)"
   ]
  },
  {
   "cell_type": "markdown",
   "metadata": {},
   "source": [
    "### PRINT ACC&LOSS "
   ]
  },
  {
   "cell_type": "code",
   "execution_count": 12,
   "metadata": {},
   "outputs": [
    {
     "name": "stdout",
     "output_type": "stream",
     "text": [
      "dict_keys(['loss', 'accuracy'])\n",
      "[2.4052612733840943, 2.0671247100830077, 1.7505290508270264, 1.368449856042862, 1.1165424060821534, 0.77798822671175, 0.5790209266543388, 0.48818119704723356, 0.4032498310506344, 0.2966289259493351, 0.2831666901893914, 0.2714690057374537, 0.2673370941262692, 0.25708476711064576, 0.14417970392853022, 0.04665114414470736, 0.0463705631873745, 0.08078337466315133, 0.1261724455934018, 0.0710149673822525, 0.22737072023563087, 0.39606689620763064, 0.14223173876700457, 0.2379641355376225, 0.1293224756329437, 0.05838865383499069, 0.48173133804579266, 0.20888633601367473, 0.20936205350153614, 0.10106931150570744, 0.12212980563999735, 0.08314624222926796, 0.06392930425005033, 0.025383378592305234, 0.03613957307529972, 0.06184293781199813, 0.04226068708572541, 0.03499240073808778, 0.05630163647394511, 0.015120392870096566, 0.001800203937474123, 0.00016115699926047, 0.00016508265193465377, 5.51621229683974e-05, 4.841906668957563e-05, 5.677955408543767e-05, 3.924219195369005e-05, 2.2996051370824944e-05, 1.5597740369877046e-05, 3.4764248110192854e-05]\n",
      "[0.2525, 0.34625, 0.44625, 0.58375, 0.655, 0.76875, 0.81625, 0.85625, 0.8725, 0.91, 0.9275, 0.91875, 0.93375, 0.925, 0.9575, 0.98375, 0.99125, 0.97625, 0.965, 0.98125, 0.935, 0.92125, 0.9725, 0.95125, 0.975, 0.98625, 0.9275, 0.93375, 0.95125, 0.98125, 0.96375, 0.97875, 0.98625, 0.9925, 0.99125, 0.98875, 0.99625, 0.9925, 0.98625, 0.99625, 1.0, 1.0, 1.0, 1.0, 1.0, 1.0, 1.0, 1.0, 1.0, 1.0]\n"
     ]
    }
   ],
   "source": [
    "print(history.history.keys())\n",
    "print(history.history['loss'])\n",
    "print(history.history['accuracy'])"
   ]
  },
  {
   "cell_type": "markdown",
   "metadata": {},
   "source": [
    "### PRINT PLOT "
   ]
  },
  {
   "cell_type": "code",
   "execution_count": 13,
   "metadata": {},
   "outputs": [
    {
     "data": {
      "text/plain": [
       "Text(0.5, 1.0, 'acc')"
      ]
     },
     "execution_count": 13,
     "metadata": {},
     "output_type": "execute_result"
    },
    {
     "data": {
      "image/png": "[encoded data removed]",
      "text/plain": [
       "<Figure size 1080x360 with 2 Axes>"
      ]
     },
     "metadata": {
      "needs_background": "light"
     },
     "output_type": "display_data"
    }
   ],
   "source": [
    "# put into df\n",
    "record_arr = np.array([history.history['loss'][0], history.history['accuracy'][0]])\n",
    "for i in range(1, EPOCHS):\n",
    "    new_row = np.array([history.history['loss'][i], history.history['accuracy'][i]])\n",
    "    record_arr = np.row_stack((record_arr, new_row))\n",
    "    \n",
    "record_df = pd.DataFrame(record_arr, columns=[\"loss\", \"acc\"])\n",
    "\n",
    "#print curve\n",
    "plt.subplot(1,2,1)\n",
    "plt.plot(np.arange(0, EPOCHS), record_df[\"loss\"], 'r')\n",
    "plt.title('loss')\n",
    "plt.subplot(1,2,2)\n",
    "plt.plot(np.arange(0, EPOCHS), record_df[\"acc\"], 'r')\n",
    "plt.title('acc')"
   ]
  },
  {
   "cell_type": "markdown",
   "metadata": {},
   "source": [
    "### VAL ACC LOSS "
   ]
  },
  {
   "cell_type": "code",
   "execution_count": 14,
   "metadata": {},
   "outputs": [
    {
     "name": "stdout",
     "output_type": "stream",
     "text": [
      "200/200 [==============================] - 1s 3ms/step\n",
      "loss of val :  0.7355309784412378\n",
      "acc of val :  0.9150000214576721\n"
     ]
    }
   ],
   "source": [
    "# val_loss_acc = model_all.evaluate(X_test, y_test, batch_size=100)\n",
    "val_loss_acc = model_m.evaluate(X_test, y_test, batch_size = 16)\n",
    "print(\"loss of val : \", val_loss_acc[0])\n",
    "print(\"acc of val : \", val_loss_acc[1])"
   ]
  },
  {
   "cell_type": "markdown",
   "metadata": {},
   "source": [
    "### PREDICT "
   ]
  },
  {
   "cell_type": "code",
   "execution_count": 15,
   "metadata": {},
   "outputs": [
    {
     "data": {
      "text/plain": [
       "array([[1.4513188e-19, 4.3085264e-19, 1.7501438e-34, ..., 1.6102507e-17,\n",
       "        2.9876611e-21, 1.2744028e-22],\n",
       "       [7.9946536e-01, 1.2595058e-06, 2.4456509e-20, ..., 1.8260224e-12,\n",
       "        5.6168919e-19, 3.2707894e-16],\n",
       "       [9.9996686e-01, 2.7398326e-09, 6.8875079e-12, ..., 2.4115113e-12,\n",
       "        4.0501906e-13, 2.4898645e-16],\n",
       "       ...,\n",
       "       [9.9432654e-08, 1.9557793e-09, 4.7123874e-09, ..., 4.5037151e-13,\n",
       "        2.0587726e-16, 1.2933056e-16],\n",
       "       [1.0000000e+00, 1.6102940e-09, 2.6489277e-16, ..., 1.0764033e-12,\n",
       "        9.2355801e-17, 3.7971592e-19],\n",
       "       [3.2180862e-19, 3.2672121e-15, 5.5403745e-24, ..., 3.9494712e-21,\n",
       "        3.9473195e-20, 5.6691361e-19]], dtype=float32)"
      ]
     },
     "metadata": {},
     "output_type": "display_data"
    }
   ],
   "source": [
    "# predictions = model_all.predict(X_test)\n",
    "predictions = model_m.predict(X_test)\n",
    "display(predictions)"
   ]
  },
  {
   "cell_type": "code",
   "execution_count": null,
   "metadata": {},
   "outputs": [],
   "source": []
  }
 ],
 "metadata": {
  "kernelspec": {
   "display_name": "Python 3",
   "language": "python",
   "name": "python3"
  },
  "language_info": {
   "codemirror_mode": {
    "name": "ipython",
    "version": 3
   },
   "file_extension": ".py",
   "mimetype": "text/x-python",
   "name": "python",
   "nbconvert_exporter": "python",
   "pygments_lexer": "ipython3",
   "version": "3.6.9"
  }
 },
 "nbformat": 4,
 "nbformat_minor": 2
}
